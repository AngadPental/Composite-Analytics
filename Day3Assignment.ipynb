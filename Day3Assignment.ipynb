{
 "cells": [
  {
   "cell_type": "code",
   "execution_count": 1,
   "id": "01a51472",
   "metadata": {
    "ExecuteTime": {
     "end_time": "2022-08-18T03:42:53.228311Z",
     "start_time": "2022-08-18T03:42:53.209305Z"
    }
   },
   "outputs": [],
   "source": [
    "#Create a gaussian distribution and export to csv"
   ]
  },
  {
   "cell_type": "code",
   "execution_count": 10,
   "id": "6933ffd9",
   "metadata": {
    "ExecuteTime": {
     "end_time": "2022-08-18T03:45:42.887664Z",
     "start_time": "2022-08-18T03:45:41.240270Z"
    }
   },
   "outputs": [],
   "source": [
    "from numpy import random\n",
    "import pandas as pd"
   ]
  },
  {
   "cell_type": "code",
   "execution_count": 23,
   "id": "325565e2",
   "metadata": {
    "ExecuteTime": {
     "end_time": "2022-08-18T03:54:29.709965Z",
     "start_time": "2022-08-18T03:54:29.684959Z"
    }
   },
   "outputs": [
    {
     "data": {
      "text/html": [
       "<div>\n",
       "<style scoped>\n",
       "    .dataframe tbody tr th:only-of-type {\n",
       "        vertical-align: middle;\n",
       "    }\n",
       "\n",
       "    .dataframe tbody tr th {\n",
       "        vertical-align: top;\n",
       "    }\n",
       "\n",
       "    .dataframe thead th {\n",
       "        text-align: right;\n",
       "    }\n",
       "</style>\n",
       "<table border=\"1\" class=\"dataframe\">\n",
       "  <thead>\n",
       "    <tr style=\"text-align: right;\">\n",
       "      <th></th>\n",
       "      <th>0</th>\n",
       "    </tr>\n",
       "  </thead>\n",
       "  <tbody>\n",
       "    <tr>\n",
       "      <th>0</th>\n",
       "      <td>51.145569</td>\n",
       "    </tr>\n",
       "    <tr>\n",
       "      <th>1</th>\n",
       "      <td>49.134320</td>\n",
       "    </tr>\n",
       "    <tr>\n",
       "      <th>2</th>\n",
       "      <td>50.207413</td>\n",
       "    </tr>\n",
       "    <tr>\n",
       "      <th>3</th>\n",
       "      <td>49.023123</td>\n",
       "    </tr>\n",
       "    <tr>\n",
       "      <th>4</th>\n",
       "      <td>50.937154</td>\n",
       "    </tr>\n",
       "  </tbody>\n",
       "</table>\n",
       "</div>"
      ],
      "text/plain": [
       "           0\n",
       "0  51.145569\n",
       "1  49.134320\n",
       "2  50.207413\n",
       "3  49.023123\n",
       "4  50.937154"
      ]
     },
     "execution_count": 23,
     "metadata": {},
     "output_type": "execute_result"
    }
   ],
   "source": [
    "data = pd.DataFrame(random.normal(loc = 50, scale = 1, size = 10000))\n",
    "data.head()"
   ]
  },
  {
   "cell_type": "code",
   "execution_count": 24,
   "id": "efeee0d3",
   "metadata": {
    "ExecuteTime": {
     "end_time": "2022-08-18T03:54:39.094379Z",
     "start_time": "2022-08-18T03:54:39.032879Z"
    }
   },
   "outputs": [],
   "source": [
    "df = data.to_csv(r'C:\\Users\\APENTAL\\Desktop\\Composite Analytics Training\\Day3NormalDist.csv')"
   ]
  },
  {
   "cell_type": "code",
   "execution_count": 31,
   "id": "661bc560",
   "metadata": {
    "ExecuteTime": {
     "end_time": "2022-08-18T03:56:56.559916Z",
     "start_time": "2022-08-18T03:56:56.531959Z"
    }
   },
   "outputs": [
    {
     "name": "stdout",
     "output_type": "stream",
     "text": [
      "(10000, 2)\n"
     ]
    },
    {
     "data": {
      "text/html": [
       "<div>\n",
       "<style scoped>\n",
       "    .dataframe tbody tr th:only-of-type {\n",
       "        vertical-align: middle;\n",
       "    }\n",
       "\n",
       "    .dataframe tbody tr th {\n",
       "        vertical-align: top;\n",
       "    }\n",
       "\n",
       "    .dataframe thead th {\n",
       "        text-align: right;\n",
       "    }\n",
       "</style>\n",
       "<table border=\"1\" class=\"dataframe\">\n",
       "  <thead>\n",
       "    <tr style=\"text-align: right;\">\n",
       "      <th></th>\n",
       "      <th>Unnamed: 0</th>\n",
       "      <th>0</th>\n",
       "    </tr>\n",
       "  </thead>\n",
       "  <tbody>\n",
       "    <tr>\n",
       "      <th>0</th>\n",
       "      <td>0</td>\n",
       "      <td>51.145569</td>\n",
       "    </tr>\n",
       "    <tr>\n",
       "      <th>1</th>\n",
       "      <td>1</td>\n",
       "      <td>49.134320</td>\n",
       "    </tr>\n",
       "    <tr>\n",
       "      <th>2</th>\n",
       "      <td>2</td>\n",
       "      <td>50.207413</td>\n",
       "    </tr>\n",
       "    <tr>\n",
       "      <th>3</th>\n",
       "      <td>3</td>\n",
       "      <td>49.023123</td>\n",
       "    </tr>\n",
       "    <tr>\n",
       "      <th>4</th>\n",
       "      <td>4</td>\n",
       "      <td>50.937154</td>\n",
       "    </tr>\n",
       "  </tbody>\n",
       "</table>\n",
       "</div>"
      ],
      "text/plain": [
       "   Unnamed: 0          0\n",
       "0           0  51.145569\n",
       "1           1  49.134320\n",
       "2           2  50.207413\n",
       "3           3  49.023123\n",
       "4           4  50.937154"
      ]
     },
     "execution_count": 31,
     "metadata": {},
     "output_type": "execute_result"
    }
   ],
   "source": [
    "df1 = pd.read_csv(r'C:\\Users\\APENTAL\\Desktop\\Composite Analytics Training\\Day3NormalDist.csv')\n",
    "print(df1.shape)\n",
    "df1.head()"
   ]
  },
  {
   "cell_type": "code",
   "execution_count": 32,
   "id": "09f39fea",
   "metadata": {
    "ExecuteTime": {
     "end_time": "2022-08-18T03:56:57.784684Z",
     "start_time": "2022-08-18T03:56:57.762436Z"
    }
   },
   "outputs": [
    {
     "data": {
      "text/html": [
       "<div>\n",
       "<style scoped>\n",
       "    .dataframe tbody tr th:only-of-type {\n",
       "        vertical-align: middle;\n",
       "    }\n",
       "\n",
       "    .dataframe tbody tr th {\n",
       "        vertical-align: top;\n",
       "    }\n",
       "\n",
       "    .dataframe thead th {\n",
       "        text-align: right;\n",
       "    }\n",
       "</style>\n",
       "<table border=\"1\" class=\"dataframe\">\n",
       "  <thead>\n",
       "    <tr style=\"text-align: right;\">\n",
       "      <th></th>\n",
       "      <th>Values</th>\n",
       "    </tr>\n",
       "  </thead>\n",
       "  <tbody>\n",
       "    <tr>\n",
       "      <th>0</th>\n",
       "      <td>51.145569</td>\n",
       "    </tr>\n",
       "    <tr>\n",
       "      <th>1</th>\n",
       "      <td>49.134320</td>\n",
       "    </tr>\n",
       "    <tr>\n",
       "      <th>2</th>\n",
       "      <td>50.207413</td>\n",
       "    </tr>\n",
       "    <tr>\n",
       "      <th>3</th>\n",
       "      <td>49.023123</td>\n",
       "    </tr>\n",
       "    <tr>\n",
       "      <th>4</th>\n",
       "      <td>50.937154</td>\n",
       "    </tr>\n",
       "  </tbody>\n",
       "</table>\n",
       "</div>"
      ],
      "text/plain": [
       "      Values\n",
       "0  51.145569\n",
       "1  49.134320\n",
       "2  50.207413\n",
       "3  49.023123\n",
       "4  50.937154"
      ]
     },
     "execution_count": 32,
     "metadata": {},
     "output_type": "execute_result"
    }
   ],
   "source": [
    "df1.drop('Unnamed: 0', inplace=True, axis = 1)\n",
    "df1.columns = ['Values']\n",
    "df1.head()"
   ]
  },
  {
   "cell_type": "code",
   "execution_count": 36,
   "id": "6ec7d13b",
   "metadata": {
    "ExecuteTime": {
     "end_time": "2022-08-18T04:01:20.800661Z",
     "start_time": "2022-08-18T04:01:20.793662Z"
    }
   },
   "outputs": [],
   "source": [
    "expected_value = lambda values: sum(values)/len(values)\n",
    "standard_deviation = lambda values,expected_value: np.sqrt(sum([(v - expected_value)**2 for v in values])/len(values))"
   ]
  },
  {
   "cell_type": "code",
   "execution_count": 39,
   "id": "f43f50f3",
   "metadata": {
    "ExecuteTime": {
     "end_time": "2022-08-18T04:02:12.187075Z",
     "start_time": "2022-08-18T04:02:12.160587Z"
    }
   },
   "outputs": [
    {
     "name": "stdout",
     "output_type": "stream",
     "text": [
      "Expected Value is : 50.011972251076266,Standard deviation is 1.0059572909196537\n"
     ]
    }
   ],
   "source": [
    "expval = expected_value(df1['Values'])\n",
    "stdev = standard_deviation(df1['Values'],expval)\n",
    "print(f'Expected Value is : {expval},Standard deviation is {stdev}')"
   ]
  },
  {
   "cell_type": "code",
   "execution_count": 33,
   "id": "7d0347bb",
   "metadata": {
    "ExecuteTime": {
     "end_time": "2022-08-18T03:57:11.632289Z",
     "start_time": "2022-08-18T03:57:11.616206Z"
    }
   },
   "outputs": [
    {
     "data": {
      "text/plain": [
       "50.011972251076266"
      ]
     },
     "execution_count": 33,
     "metadata": {},
     "output_type": "execute_result"
    }
   ],
   "source": [
    "#Mean and Standard Deviation\n",
    "meanval = np.mean(df1['Values'])\n",
    "meanval"
   ]
  },
  {
   "cell_type": "code",
   "execution_count": 35,
   "id": "57a9e8cc",
   "metadata": {
    "ExecuteTime": {
     "end_time": "2022-08-18T03:57:35.957144Z",
     "start_time": "2022-08-18T03:57:35.938526Z"
    }
   },
   "outputs": [
    {
     "data": {
      "text/plain": [
       "1.0059572909196537"
      ]
     },
     "execution_count": 35,
     "metadata": {},
     "output_type": "execute_result"
    }
   ],
   "source": [
    "stdev = np.std(df1['Values'])\n",
    "stdev"
   ]
  },
  {
   "cell_type": "code",
   "execution_count": null,
   "id": "3b40f76b",
   "metadata": {},
   "outputs": [],
   "source": []
  }
 ],
 "metadata": {
  "kernelspec": {
   "display_name": "Python 3 (ipykernel)",
   "language": "python",
   "name": "python3"
  },
  "language_info": {
   "codemirror_mode": {
    "name": "ipython",
    "version": 3
   },
   "file_extension": ".py",
   "mimetype": "text/x-python",
   "name": "python",
   "nbconvert_exporter": "python",
   "pygments_lexer": "ipython3",
   "version": "3.9.12"
  },
  "varInspector": {
   "cols": {
    "lenName": 16,
    "lenType": 16,
    "lenVar": 40
   },
   "kernels_config": {
    "python": {
     "delete_cmd_postfix": "",
     "delete_cmd_prefix": "del ",
     "library": "var_list.py",
     "varRefreshCmd": "print(var_dic_list())"
    },
    "r": {
     "delete_cmd_postfix": ") ",
     "delete_cmd_prefix": "rm(",
     "library": "var_list.r",
     "varRefreshCmd": "cat(var_dic_list()) "
    }
   },
   "types_to_exclude": [
    "module",
    "function",
    "builtin_function_or_method",
    "instance",
    "_Feature"
   ],
   "window_display": false
  }
 },
 "nbformat": 4,
 "nbformat_minor": 5
}
