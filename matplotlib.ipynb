{
 "cells": [
  {
   "cell_type": "code",
   "execution_count": 1,
   "id": "6c6ae84a",
   "metadata": {
    "ExecuteTime": {
     "end_time": "2022-08-18T04:48:48.561493Z",
     "start_time": "2022-08-18T04:48:47.442462Z"
    }
   },
   "outputs": [],
   "source": [
    "import matplotlib.pyplot as plt"
   ]
  },
  {
   "cell_type": "code",
   "execution_count": 2,
   "id": "5d69711f",
   "metadata": {
    "ExecuteTime": {
     "end_time": "2022-08-18T04:48:53.136146Z",
     "start_time": "2022-08-18T04:48:53.122140Z"
    }
   },
   "outputs": [
    {
     "data": {
      "text/plain": [
       "['Solarize_Light2',\n",
       " '_classic_test_patch',\n",
       " '_mpl-gallery',\n",
       " '_mpl-gallery-nogrid',\n",
       " 'bmh',\n",
       " 'classic',\n",
       " 'dark_background',\n",
       " 'fast',\n",
       " 'fivethirtyeight',\n",
       " 'ggplot',\n",
       " 'grayscale',\n",
       " 'seaborn',\n",
       " 'seaborn-bright',\n",
       " 'seaborn-colorblind',\n",
       " 'seaborn-dark',\n",
       " 'seaborn-dark-palette',\n",
       " 'seaborn-darkgrid',\n",
       " 'seaborn-deep',\n",
       " 'seaborn-muted',\n",
       " 'seaborn-notebook',\n",
       " 'seaborn-paper',\n",
       " 'seaborn-pastel',\n",
       " 'seaborn-poster',\n",
       " 'seaborn-talk',\n",
       " 'seaborn-ticks',\n",
       " 'seaborn-white',\n",
       " 'seaborn-whitegrid',\n",
       " 'tableau-colorblind10']"
      ]
     },
     "execution_count": 2,
     "metadata": {},
     "output_type": "execute_result"
    }
   ],
   "source": [
    "plt.style.available"
   ]
  },
  {
   "cell_type": "code",
   "execution_count": 3,
   "id": "862ed790",
   "metadata": {
    "ExecuteTime": {
     "end_time": "2022-08-18T04:49:46.216794Z",
     "start_time": "2022-08-18T04:49:46.208597Z"
    }
   },
   "outputs": [],
   "source": [
    "plt.style.use('seaborn-white')"
   ]
  },
  {
   "cell_type": "code",
   "execution_count": 23,
   "id": "72e63e13",
   "metadata": {
    "ExecuteTime": {
     "end_time": "2022-08-18T05:01:42.099450Z",
     "start_time": "2022-08-18T05:01:42.090448Z"
    }
   },
   "outputs": [],
   "source": [
    "agex = [25, 26, 27, 29, 33, 32, 35, 28, 35, 39]\n",
    "devop = [3525, 3326, 3627, 3129, 3633, 3032, 3115, 3628, 3435, 3009]\n",
    "javadop = [4525, 4326, 5627, 4129, 3433, 5432, 4115, 4428, 5535, 3409]"
   ]
  },
  {
   "cell_type": "code",
   "execution_count": 24,
   "id": "51225fe1",
   "metadata": {
    "ExecuteTime": {
     "end_time": "2022-08-18T05:01:42.662128Z",
     "start_time": "2022-08-18T05:01:42.645105Z"
    }
   },
   "outputs": [],
   "source": [
    "agex.sort()\n",
    "devop.sort()\n",
    "javadop.sort()"
   ]
  },
  {
   "cell_type": "code",
   "execution_count": 26,
   "id": "683ea0f3",
   "metadata": {
    "ExecuteTime": {
     "end_time": "2022-08-18T05:01:52.401585Z",
     "start_time": "2022-08-18T05:01:52.201702Z"
    }
   },
   "outputs": [
    {
     "data": {
      "image/png": "[encoded data removed]",
      "text/plain": [
       "<Figure size 432x288 with 1 Axes>"
      ]
     },
     "metadata": {},
     "output_type": "display_data"
    }
   ],
   "source": [
    "plt.plot(agex, devop, label = 'All Developers')\n",
    "plt.plot(agex, javadop, label = 'All Java')\n",
    "plt.xlabel('Ages')\n",
    "plt.ylabel('Median Salary')\n",
    "plt.legend(loc = 'best')\n",
    "plt.show()"
   ]
  },
  {
   "cell_type": "code",
   "execution_count": null,
   "id": "057ab2b0",
   "metadata": {},
   "outputs": [],
   "source": []
  }
 ],
 "metadata": {
  "kernelspec": {
   "display_name": "Python 3 (ipykernel)",
   "language": "python",
   "name": "python3"
  },
  "language_info": {
   "codemirror_mode": {
    "name": "ipython",
    "version": 3
   },
   "file_extension": ".py",
   "mimetype": "text/x-python",
   "name": "python",
   "nbconvert_exporter": "python",
   "pygments_lexer": "ipython3",
   "version": "3.9.12"
  },
  "varInspector": {
   "cols": {
    "lenName": 16,
    "lenType": 16,
    "lenVar": 40
   },
   "kernels_config": {
    "python": {
     "delete_cmd_postfix": "",
     "delete_cmd_prefix": "del ",
     "library": "var_list.py",
     "varRefreshCmd": "print(var_dic_list())"
    },
    "r": {
     "delete_cmd_postfix": ") ",
     "delete_cmd_prefix": "rm(",
     "library": "var_list.r",
     "varRefreshCmd": "cat(var_dic_list()) "
    }
   },
   "types_to_exclude": [
    "module",
    "function",
    "builtin_function_or_method",
    "instance",
    "_Feature"
   ],
   "window_display": false
  }
 },
 "nbformat": 4,
 "nbformat_minor": 5
}
