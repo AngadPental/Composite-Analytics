{
 "cells": [
  {
   "cell_type": "code",
   "execution_count": 6,
   "id": "ae3bc28e",
   "metadata": {
    "ExecuteTime": {
     "end_time": "2022-08-17T09:30:00.862653Z",
     "start_time": "2022-08-17T09:30:00.842648Z"
    }
   },
   "outputs": [],
   "source": [
    "import pandas as pd\n",
    "import numpy as np\n",
    "import math\n",
    "import scipy.stats.contingency as sc"
   ]
  },
  {
   "cell_type": "code",
   "execution_count": 19,
   "id": "c3d776c5",
   "metadata": {
    "ExecuteTime": {
     "end_time": "2022-08-17T09:41:23.773175Z",
     "start_time": "2022-08-17T09:41:23.747689Z"
    }
   },
   "outputs": [
    {
     "data": {
      "text/html": [
       "<div>\n",
       "<style scoped>\n",
       "    .dataframe tbody tr th:only-of-type {\n",
       "        vertical-align: middle;\n",
       "    }\n",
       "\n",
       "    .dataframe tbody tr th {\n",
       "        vertical-align: top;\n",
       "    }\n",
       "\n",
       "    .dataframe thead th {\n",
       "        text-align: right;\n",
       "    }\n",
       "</style>\n",
       "<table border=\"1\" class=\"dataframe\">\n",
       "  <thead>\n",
       "    <tr style=\"text-align: right;\">\n",
       "      <th></th>\n",
       "      <th>Pass</th>\n",
       "      <th>Fail</th>\n",
       "    </tr>\n",
       "  </thead>\n",
       "  <tbody>\n",
       "    <tr>\n",
       "      <th>0</th>\n",
       "      <td>45</td>\n",
       "      <td>55</td>\n",
       "    </tr>\n",
       "    <tr>\n",
       "      <th>1</th>\n",
       "      <td>30</td>\n",
       "      <td>70</td>\n",
       "    </tr>\n",
       "  </tbody>\n",
       "</table>\n",
       "</div>"
      ],
      "text/plain": [
       "   Pass  Fail\n",
       "0    45    55\n",
       "1    30    70"
      ]
     },
     "execution_count": 19,
     "metadata": {},
     "output_type": "execute_result"
    }
   ],
   "source": [
    "data = pd.DataFrame({'Pass':[45, 30], 'Fail':[55, 70]})\n",
    "data"
   ]
  },
  {
   "cell_type": "code",
   "execution_count": 23,
   "id": "35493713",
   "metadata": {
    "ExecuteTime": {
     "end_time": "2022-08-17T09:46:01.100566Z",
     "start_time": "2022-08-17T09:46:01.087085Z"
    }
   },
   "outputs": [
    {
     "data": {
      "text/plain": [
       "10.714285714285715"
      ]
     },
     "execution_count": 23,
     "metadata": {},
     "output_type": "execute_result"
    }
   ],
   "source": [
    "chisq = ((45-30)**2/30) + ((55-70)**2/70)\n",
    "chisq"
   ]
  },
  {
   "cell_type": "code",
   "execution_count": 25,
   "id": "a9b9ec57",
   "metadata": {
    "ExecuteTime": {
     "end_time": "2022-08-17T09:48:56.986016Z",
     "start_time": "2022-08-17T09:48:56.976060Z"
    }
   },
   "outputs": [
    {
     "data": {
      "text/plain": [
       "10.714285714285715"
      ]
     },
     "execution_count": 25,
     "metadata": {},
     "output_type": "execute_result"
    }
   ],
   "source": [
    "chi = scipy.stats.chisquare(data.loc[0], data.loc[1])\n",
    "chi[0]"
   ]
  },
  {
   "cell_type": "code",
   "execution_count": 24,
   "id": "3b8bb039",
   "metadata": {
    "ExecuteTime": {
     "end_time": "2022-08-17T09:48:30.179983Z",
     "start_time": "2022-08-17T09:48:30.172857Z"
    }
   },
   "outputs": [],
   "source": [
    "Critical_Value = 3.84"
   ]
  },
  {
   "cell_type": "code",
   "execution_count": 34,
   "id": "9009a87c",
   "metadata": {
    "ExecuteTime": {
     "end_time": "2022-08-17T09:52:22.929674Z",
     "start_time": "2022-08-17T09:52:22.912472Z"
    }
   },
   "outputs": [],
   "source": [
    "def checkchi(chi, crit):\n",
    "    if chi > crit:\n",
    "        print('We reject the null hypothesis.\\nThere is significant difference in marks, thus students should join the classes')\n",
    "    else:\n",
    "        print('We accept the null hypothesis.\\nThere is no significant difference in marks, thus students should not join the classes')"
   ]
  },
  {
   "cell_type": "code",
   "execution_count": 35,
   "id": "f14c454a",
   "metadata": {
    "ExecuteTime": {
     "end_time": "2022-08-17T09:52:33.937702Z",
     "start_time": "2022-08-17T09:52:33.920283Z"
    }
   },
   "outputs": [
    {
     "name": "stdout",
     "output_type": "stream",
     "text": [
      "We reject the null hypothesis.\n",
      "There is significant difference in marks, thus students should join the classes\n"
     ]
    }
   ],
   "source": [
    "checkchi(chi[0], Critical_Value)"
   ]
  },
  {
   "cell_type": "code",
   "execution_count": 37,
   "id": "99bac85f",
   "metadata": {
    "ExecuteTime": {
     "end_time": "2022-08-17T09:53:21.214776Z",
     "start_time": "2022-08-17T09:53:21.194305Z"
    }
   },
   "outputs": [
    {
     "data": {
      "text/html": [
       "<div>\n",
       "<style scoped>\n",
       "    .dataframe tbody tr th:only-of-type {\n",
       "        vertical-align: middle;\n",
       "    }\n",
       "\n",
       "    .dataframe tbody tr th {\n",
       "        vertical-align: top;\n",
       "    }\n",
       "\n",
       "    .dataframe thead th {\n",
       "        text-align: right;\n",
       "    }\n",
       "</style>\n",
       "<table border=\"1\" class=\"dataframe\">\n",
       "  <thead>\n",
       "    <tr style=\"text-align: right;\">\n",
       "      <th></th>\n",
       "      <th>Pass</th>\n",
       "      <th>Fail</th>\n",
       "    </tr>\n",
       "  </thead>\n",
       "  <tbody>\n",
       "    <tr>\n",
       "      <th>0</th>\n",
       "      <td>41</td>\n",
       "      <td>59</td>\n",
       "    </tr>\n",
       "    <tr>\n",
       "      <th>1</th>\n",
       "      <td>39</td>\n",
       "      <td>61</td>\n",
       "    </tr>\n",
       "  </tbody>\n",
       "</table>\n",
       "</div>"
      ],
      "text/plain": [
       "   Pass  Fail\n",
       "0    41    59\n",
       "1    39    61"
      ]
     },
     "execution_count": 37,
     "metadata": {},
     "output_type": "execute_result"
    }
   ],
   "source": [
    "data2 = pd.DataFrame({'Pass':[41, 39], 'Fail':[59, 61]})\n",
    "data2"
   ]
  },
  {
   "cell_type": "code",
   "execution_count": 38,
   "id": "5345fea0",
   "metadata": {
    "ExecuteTime": {
     "end_time": "2022-08-17T09:53:36.814472Z",
     "start_time": "2022-08-17T09:53:36.797468Z"
    }
   },
   "outputs": [
    {
     "data": {
      "text/plain": [
       "0.16813787305590583"
      ]
     },
     "execution_count": 38,
     "metadata": {},
     "output_type": "execute_result"
    }
   ],
   "source": [
    "chi2 = scipy.stats.chisquare(data2.loc[0], data2.loc[1])\n",
    "chi2[0]"
   ]
  },
  {
   "cell_type": "code",
   "execution_count": 39,
   "id": "9af60999",
   "metadata": {
    "ExecuteTime": {
     "end_time": "2022-08-17T09:54:08.362134Z",
     "start_time": "2022-08-17T09:54:08.353550Z"
    }
   },
   "outputs": [
    {
     "name": "stdout",
     "output_type": "stream",
     "text": [
      "We accept the null hypothesis.\n",
      "There is no significant difference in marks, thus students should not join the classes\n"
     ]
    }
   ],
   "source": [
    "checkchi(chi2[0], Critical_Value)"
   ]
  },
  {
   "cell_type": "code",
   "execution_count": null,
   "id": "2ba100c8",
   "metadata": {},
   "outputs": [],
   "source": []
  }
 ],
 "metadata": {
  "kernelspec": {
   "display_name": "Python 3 (ipykernel)",
   "language": "python",
   "name": "python3"
  },
  "language_info": {
   "codemirror_mode": {
    "name": "ipython",
    "version": 3
   },
   "file_extension": ".py",
   "mimetype": "text/x-python",
   "name": "python",
   "nbconvert_exporter": "python",
   "pygments_lexer": "ipython3",
   "version": "3.9.12"
  },
  "varInspector": {
   "cols": {
    "lenName": 16,
    "lenType": 16,
    "lenVar": 40
   },
   "kernels_config": {
    "python": {
     "delete_cmd_postfix": "",
     "delete_cmd_prefix": "del ",
     "library": "var_list.py",
     "varRefreshCmd": "print(var_dic_list())"
    },
    "r": {
     "delete_cmd_postfix": ") ",
     "delete_cmd_prefix": "rm(",
     "library": "var_list.r",
     "varRefreshCmd": "cat(var_dic_list()) "
    }
   },
   "types_to_exclude": [
    "module",
    "function",
    "builtin_function_or_method",
    "instance",
    "_Feature"
   ],
   "window_display": false
  }
 },
 "nbformat": 4,
 "nbformat_minor": 5
}
