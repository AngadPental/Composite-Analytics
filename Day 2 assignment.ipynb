{
 "cells": [
  {
   "cell_type": "markdown",
   "id": "4241388b",
   "metadata": {},
   "source": [
    "# Joint Probability"
   ]
  },
  {
   "cell_type": "code",
   "execution_count": 2,
   "id": "ce177ebb",
   "metadata": {
    "ExecuteTime": {
     "end_time": "2022-08-17T03:50:23.708583Z",
     "start_time": "2022-08-17T03:50:23.695579Z"
    }
   },
   "outputs": [],
   "source": [
    "%matplotlib inline\n",
    "import numpy as np"
   ]
  },
  {
   "cell_type": "code",
   "execution_count": 44,
   "id": "067e7dab",
   "metadata": {
    "ExecuteTime": {
     "end_time": "2022-08-17T04:48:34.976735Z",
     "start_time": "2022-08-17T04:48:34.969729Z"
    }
   },
   "outputs": [],
   "source": [
    "P=np.array([[2.,2,4],[1,1,2]])\n",
    "P2 = np.array([[3.,4,5],[4,3,3]])"
   ]
  },
  {
   "cell_type": "code",
   "execution_count": 14,
   "id": "4ef0528e",
   "metadata": {
    "ExecuteTime": {
     "end_time": "2022-08-17T04:04:02.772550Z",
     "start_time": "2022-08-17T04:04:02.758546Z"
    }
   },
   "outputs": [
    {
     "name": "stdout",
     "output_type": "stream",
     "text": [
      "the sum is  12.0\n"
     ]
    },
    {
     "data": {
      "text/plain": [
       "array([[0.16666667, 0.16666667, 0.33333333],\n",
       "       [0.08333333, 0.08333333, 0.16666667]])"
      ]
     },
     "execution_count": 14,
     "metadata": {},
     "output_type": "execute_result"
    }
   ],
   "source": [
    "s = 0\n",
    "for i in range(shape(P)[0]):\n",
    "    for j in range(shape(P)[1]):\n",
    "        s += P[i,j]\n",
    "print('the sum is ',s)\n",
    "#divide by the sum\n",
    "for i in range(shape(P)[0]):\n",
    "    for j in range(shape(P)[1]):\n",
    "        P[i,j] /= s\n",
    "P"
   ]
  },
  {
   "cell_type": "code",
   "execution_count": 15,
   "id": "bc73cd98",
   "metadata": {
    "ExecuteTime": {
     "end_time": "2022-08-17T04:04:04.956312Z",
     "start_time": "2022-08-17T04:04:04.943776Z"
    }
   },
   "outputs": [
    {
     "data": {
      "text/plain": [
       "array([[0.13636364, 0.18181818, 0.22727273],\n",
       "       [0.18181818, 0.13636364, 0.13636364]])"
      ]
     },
     "execution_count": 15,
     "metadata": {},
     "output_type": "execute_result"
    }
   ],
   "source": [
    "# Using Numpy we can write it in a much shorter way\n",
    "P2 /= sum(P2)\n",
    "P2"
   ]
  },
  {
   "cell_type": "code",
   "execution_count": 20,
   "id": "2c092c39",
   "metadata": {
    "ExecuteTime": {
     "end_time": "2022-08-17T04:05:59.926417Z",
     "start_time": "2022-08-17T04:05:59.912338Z"
    }
   },
   "outputs": [],
   "source": [
    "# The values that the random variables x and y take\n",
    "x=np.array([2,3,6])\n",
    "y=np.array([-1,1])"
   ]
  },
  {
   "cell_type": "markdown",
   "id": "404f3541",
   "metadata": {},
   "source": [
    "# Marginal Probabilities"
   ]
  },
  {
   "cell_type": "code",
   "execution_count": 46,
   "id": "34ad43d1",
   "metadata": {
    "ExecuteTime": {
     "end_time": "2022-08-17T04:48:50.592213Z",
     "start_time": "2022-08-17T04:48:50.583206Z"
    }
   },
   "outputs": [
    {
     "data": {
      "text/plain": [
       "([3.0, 3.0, 6.0], [8.0, 4.0])"
      ]
     },
     "execution_count": 46,
     "metadata": {},
     "output_type": "execute_result"
    }
   ],
   "source": [
    "# The pure python way\n",
    "Px=[0.]*shape(P)[1]\n",
    "Py=[0.]*shape(P)[0]\n",
    "\n",
    "for i in range(len(Px)):\n",
    "    for j in range(len(Py)):\n",
    "        Px[i]+=P[j,i]\n",
    "        Py[j]+=P[j,i]\n",
    "Px,Py"
   ]
  },
  {
   "cell_type": "code",
   "execution_count": 24,
   "id": "51201193",
   "metadata": {
    "ExecuteTime": {
     "end_time": "2022-08-17T04:06:34.980385Z",
     "start_time": "2022-08-17T04:06:34.968287Z"
    }
   },
   "outputs": [
    {
     "data": {
      "text/plain": [
       "(array([0.25, 0.25, 0.5 ]), array([0.66666667, 0.33333333]))"
      ]
     },
     "execution_count": 24,
     "metadata": {},
     "output_type": "execute_result"
    }
   ],
   "source": [
    "#the numpy way:\n",
    "Px=sum(P,axis=0)\n",
    "Py=sum(P,axis=1)\n",
    "Px,Py"
   ]
  },
  {
   "cell_type": "markdown",
   "id": "409692ac",
   "metadata": {},
   "source": [
    "# Check for independence"
   ]
  },
  {
   "cell_type": "markdown",
   "id": "aca02b60",
   "metadata": {},
   "source": [
    "If they are independent then the outer product and P should be equal"
   ]
  },
  {
   "cell_type": "code",
   "execution_count": 25,
   "id": "1c6f4b3a",
   "metadata": {
    "ExecuteTime": {
     "end_time": "2022-08-17T04:06:38.002893Z",
     "start_time": "2022-08-17T04:06:37.992892Z"
    }
   },
   "outputs": [],
   "source": [
    "# The pure python way\n",
    "for i in range(len(Px)):\n",
    "    for j in range(len(Py)):\n",
    "        if Px[i]*Py[j] != P[j,i]:\n",
    "            print(\"Px[%d]*Py[%d] != P[%d,%d] ::::: %5.3f*%5.3f = %5.3f != %5.3f\"%(i,j,j,i,Px[i],Py[j],Px[i]*Py[j],P[j,i]))"
   ]
  },
  {
   "cell_type": "code",
   "execution_count": 26,
   "id": "9e085a77",
   "metadata": {
    "ExecuteTime": {
     "end_time": "2022-08-17T04:06:38.870782Z",
     "start_time": "2022-08-17T04:06:38.851779Z"
    }
   },
   "outputs": [
    {
     "data": {
      "text/plain": [
       "array([[0., 0., 0.],\n",
       "       [0., 0., 0.]])"
      ]
     },
     "execution_count": 26,
     "metadata": {},
     "output_type": "execute_result"
    }
   ],
   "source": [
    "# The numpy way\n",
    "np.outer(Px,Py).T - P"
   ]
  },
  {
   "cell_type": "markdown",
   "id": "217bb4b4",
   "metadata": {},
   "source": [
    "# Functions"
   ]
  },
  {
   "cell_type": "code",
   "execution_count": 29,
   "id": "37417da3",
   "metadata": {
    "ExecuteTime": {
     "end_time": "2022-08-17T04:12:53.610188Z",
     "start_time": "2022-08-17T04:12:53.592549Z"
    }
   },
   "outputs": [],
   "source": [
    "P = [8, 9, 8, 9, 9, 2, 3, 7]"
   ]
  },
  {
   "cell_type": "code",
   "execution_count": 31,
   "id": "6244ad3f",
   "metadata": {
    "ExecuteTime": {
     "end_time": "2022-08-17T04:13:16.949404Z",
     "start_time": "2022-08-17T04:13:16.943413Z"
    }
   },
   "outputs": [],
   "source": [
    "def Sq_list(list1):\n",
    "    return np.array(list1)**2"
   ]
  },
  {
   "cell_type": "code",
   "execution_count": 32,
   "id": "50110074",
   "metadata": {
    "ExecuteTime": {
     "end_time": "2022-08-17T04:13:23.008558Z",
     "start_time": "2022-08-17T04:13:22.995554Z"
    }
   },
   "outputs": [
    {
     "data": {
      "text/plain": [
       "array([64, 81, 64, 81, 81,  4,  9, 49], dtype=int32)"
      ]
     },
     "execution_count": 32,
     "metadata": {},
     "output_type": "execute_result"
    }
   ],
   "source": [
    "Sq_list(P)"
   ]
  },
  {
   "cell_type": "code",
   "execution_count": 33,
   "id": "8b2347a5",
   "metadata": {
    "ExecuteTime": {
     "end_time": "2022-08-17T04:21:30.889291Z",
     "start_time": "2022-08-17T04:21:30.870301Z"
    }
   },
   "outputs": [
    {
     "data": {
      "text/plain": [
       "55"
      ]
     },
     "execution_count": 33,
     "metadata": {},
     "output_type": "execute_result"
    }
   ],
   "source": [
    "sum(P)"
   ]
  },
  {
   "cell_type": "code",
   "execution_count": 34,
   "id": "bd75cebe",
   "metadata": {
    "ExecuteTime": {
     "end_time": "2022-08-17T04:24:16.901961Z",
     "start_time": "2022-08-17T04:24:16.889963Z"
    }
   },
   "outputs": [],
   "source": [
    "def Var(list1):\n",
    "    mean = sum(P)/len(P)\n",
    "    deviation = [(x - mean)**2 for x in list1]\n",
    "    variance = sum(deviation)/len(P)\n",
    "    return variance"
   ]
  },
  {
   "cell_type": "code",
   "execution_count": 35,
   "id": "817ce4c9",
   "metadata": {
    "ExecuteTime": {
     "end_time": "2022-08-17T04:24:21.577532Z",
     "start_time": "2022-08-17T04:24:21.564482Z"
    }
   },
   "outputs": [
    {
     "data": {
      "text/plain": [
       "6.859375"
      ]
     },
     "execution_count": 35,
     "metadata": {},
     "output_type": "execute_result"
    }
   ],
   "source": [
    "Var(P)"
   ]
  },
  {
   "cell_type": "code",
   "execution_count": 36,
   "id": "e240e35f",
   "metadata": {
    "ExecuteTime": {
     "end_time": "2022-08-17T04:25:03.142230Z",
     "start_time": "2022-08-17T04:25:03.125939Z"
    }
   },
   "outputs": [],
   "source": [
    "def SQRoot(list1):\n",
    "    mean = sum(P)/len(P)\n",
    "    deviation = [(x - mean)**2 for x in list1]\n",
    "    variance = sum(deviation)/len(P)\n",
    "    Sqr = sqrt(variance)\n",
    "    return Sqr"
   ]
  },
  {
   "cell_type": "code",
   "execution_count": 37,
   "id": "a5306e62",
   "metadata": {
    "ExecuteTime": {
     "end_time": "2022-08-17T04:25:09.569106Z",
     "start_time": "2022-08-17T04:25:09.555624Z"
    }
   },
   "outputs": [
    {
     "data": {
      "text/plain": [
       "2.6190408549696205"
      ]
     },
     "execution_count": 37,
     "metadata": {},
     "output_type": "execute_result"
    }
   ],
   "source": [
    "SQRoot(P)"
   ]
  },
  {
   "cell_type": "code",
   "execution_count": 41,
   "id": "6957681a",
   "metadata": {
    "ExecuteTime": {
     "end_time": "2022-08-17T04:35:39.562810Z",
     "start_time": "2022-08-17T04:35:39.505585Z"
    }
   },
   "outputs": [],
   "source": [
    "import statistics\n",
    "def skewness(list1):\n",
    "    skewness = (statistics.mean(list1) - statistics.mode(list1))/statistics.stdev(list1)\n",
    "    return skewness"
   ]
  },
  {
   "cell_type": "code",
   "execution_count": 42,
   "id": "817eb4e0",
   "metadata": {
    "ExecuteTime": {
     "end_time": "2022-08-17T04:35:42.211734Z",
     "start_time": "2022-08-17T04:35:42.196731Z"
    }
   },
   "outputs": [
    {
     "data": {
      "text/plain": [
       "-0.7589631459745645"
      ]
     },
     "execution_count": 42,
     "metadata": {},
     "output_type": "execute_result"
    }
   ],
   "source": [
    "skewness(P)"
   ]
  },
  {
   "cell_type": "code",
   "execution_count": null,
   "id": "bae720da",
   "metadata": {},
   "outputs": [],
   "source": []
  }
 ],
 "metadata": {
  "kernelspec": {
   "display_name": "Python 3 (ipykernel)",
   "language": "python",
   "name": "python3"
  },
  "language_info": {
   "codemirror_mode": {
    "name": "ipython",
    "version": 3
   },
   "file_extension": ".py",
   "mimetype": "text/x-python",
   "name": "python",
   "nbconvert_exporter": "python",
   "pygments_lexer": "ipython3",
   "version": "3.9.12"
  },
  "varInspector": {
   "cols": {
    "lenName": 16,
    "lenType": 16,
    "lenVar": 40
   },
   "kernels_config": {
    "python": {
     "delete_cmd_postfix": "",
     "delete_cmd_prefix": "del ",
     "library": "var_list.py",
     "varRefreshCmd": "print(var_dic_list())"
    },
    "r": {
     "delete_cmd_postfix": ") ",
     "delete_cmd_prefix": "rm(",
     "library": "var_list.r",
     "varRefreshCmd": "cat(var_dic_list()) "
    }
   },
   "types_to_exclude": [
    "module",
    "function",
    "builtin_function_or_method",
    "instance",
    "_Feature"
   ],
   "window_display": false
  }
 },
 "nbformat": 4,
 "nbformat_minor": 5
}
